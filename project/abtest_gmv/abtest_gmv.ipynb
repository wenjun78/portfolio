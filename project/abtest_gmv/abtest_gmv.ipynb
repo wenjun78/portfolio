{
 "cells": [
  {
   "cell_type": "markdown",
   "id": "1f527938-ecc4-4b81-a453-d20e808166b8",
   "metadata": {},
   "source": [
    "# A/B Testing Report: Evaluating Discount Impact on GMV and ROI"
   ]
  },
  {
   "cell_type": "markdown",
   "id": "b4ae7160-8823-4ec9-b929-e1d166abfad3",
   "metadata": {},
   "source": [
    "by Lau Wen Jun"
   ]
  },
  {
   "cell_type": "markdown",
   "id": "f5faa517-120d-4172-b80d-f8a784be700e",
   "metadata": {},
   "source": [
    "## Disclaimer:\n",
    "The dataset used in this analysis is a **synthetic dataset generated solely for demonstration purposes and does not reflect real-world user data**. You can download the dataset [here](https://www.dropbox.com/scl/fi/khi17myq2m3rosz5eawx7/abtestgmvroi.xlsx?rlkey=ikwv4htvaryfx9ehepqvdd7uw&st=a6381wai&dl=1)."
   ]
  },
  {
   "cell_type": "markdown",
   "id": "05bc4e09-e0a0-41be-9e3b-b6061147eec6",
   "metadata": {},
   "source": [
    "## Table of Contents\n",
    "\n",
    "1. [Business Context](#1.-Business-Context)\n",
    "2. [Key Variables](#2.-Key-Variables)\n",
    "3. [Objective](#3.-Objective)\n",
    "4. [Experimental Design](#4.-Experimental-Design)\n",
    "5. [Statistical Tests](#5.-Statistical-Tests)\n",
    "6. [Results](#6.-Results)\n",
    "7. [Conclusions](#7.-Conclusions)"
   ]
  },
  {
   "cell_type": "markdown",
   "id": "c0ef7c11-edbd-49ee-9c5e-78e72a1ca43a",
   "metadata": {},
   "source": [
    "## [1. Business Context](#Table-of-Contents)"
   ]
  },
  {
   "cell_type": "markdown",
   "id": "608c2c00-9b2c-4fd7-8fa8-dc61e28c72ba",
   "metadata": {},
   "source": [
    "An e-commerce platform explored offering a **10% discount** to boost sales. While discounts can increase order volume, they may also reduce profit margins. To evaluate the trade-off, the team launched an A/B test to determine whether offering a 10% discount leads to a meaningful increase in **Gross Merchandise Value (GMV)** and delivers a positive **Return on Investment (ROI)**."
   ]
  },
  {
   "cell_type": "markdown",
   "id": "f54de31f-302a-4756-8b65-cba295d5aac0",
   "metadata": {},
   "source": [
    "## [2. Key Variables](#Table-of-Contents)"
   ]
  },
  {
   "cell_type": "markdown",
   "id": "d0e6e26d-508a-4cfa-9bec-e93e5e30ff1b",
   "metadata": {},
   "source": [
    "\n",
    "**GMV (Gross Merchandise Value)**: Total dollar value of items purchased per user\n",
    "\n",
    "**Discount Given**: Amount of promotional discount applied\n",
    "\n",
    "**ROI (Return on Investment)**:\n",
    "$$\n",
    "ROI = \\frac{\\text{Total GMV} - \\text{Total Discount}}{\\text{Total Discount}}\n",
    "$$\n",
    " \n",
    "\n",
    " \n"
   ]
  },
  {
   "cell_type": "markdown",
   "id": "d7fcdda0-887b-4dba-a826-00ecdf174228",
   "metadata": {},
   "source": [
    "## [3. Objective](#Table-of-Contents)"
   ]
  },
  {
   "cell_type": "markdown",
   "id": "7479c954-dbf8-47a9-afd8-c137e4e452fa",
   "metadata": {},
   "source": [
    "To determine if the 10% discount campaign increases GMV significantly and generates a positive ROI, justifying its use in future marketing efforts."
   ]
  },
  {
   "cell_type": "markdown",
   "id": "723d53e8-f935-4654-9556-0da29841dfc8",
   "metadata": {},
   "source": [
    "## [4. Experimental Design](#Table-of-Contents)"
   ]
  },
  {
   "cell_type": "markdown",
   "id": "7d39665e-6365-4463-8bfd-660cdbef5c27",
   "metadata": {},
   "source": [
    "Control Group: Received no discount\n",
    "\n",
    "Test Group: Received a 10% discount at checkout\n",
    "\n",
    "Users were randomly assigned at the user ID level to avoid contamination. The discount was delivered privately through personalized notifications and app banners, preventing confusion or perceived unfairness.\n",
    "\n",
    "All other site conditions were held constant. The campaign ran for a fixed period, and user-level data was collected for analysis."
   ]
  },
  {
   "cell_type": "markdown",
   "id": "2ae3bc19-aec6-4565-a587-6cad303491e2",
   "metadata": {},
   "source": [
    "## [5. Statistical Tests](#Table-of-Contents)"
   ]
  },
  {
   "cell_type": "markdown",
   "id": "52164b2b-42d0-4cfc-a54a-ebae34d854db",
   "metadata": {},
   "source": [
    "A two-sample t-test was used to assess whether average GMV differed significantly between the control and test groups.\n",
    "\n",
    "𝑡\n",
    "=\n",
    "𝑥\n",
    "ˉ\n",
    "1\n",
    "−\n",
    "𝑥\n",
    "ˉ\n",
    "2\n",
    "𝑠\n",
    "1\n",
    "2\n",
    "𝑛\n",
    "1\n",
    "+\n",
    "𝑠\n",
    "2\n",
    "2\n",
    "𝑛\n",
    "2\n",
    "t= \n",
    "n \n",
    "1\n",
    "​\n",
    " \n",
    "s \n",
    "1\n",
    "2\n",
    "​\n",
    " \n",
    "​\n",
    " + \n",
    "n \n",
    "2\n",
    "​\n",
    " \n",
    "s \n",
    "2\n",
    "2\n",
    "​\n",
    " \n",
    "​\n",
    " \n",
    "​\n",
    " \n",
    "x\n",
    "ˉ\n",
    "  \n",
    "1\n",
    "​\n",
    " − \n",
    "x\n",
    "ˉ\n",
    "  \n",
    "2\n",
    "​\n",
    " \n",
    "​\n",
    " \n",
    "𝑥\n",
    "ˉ\n",
    "1\n",
    ",\n",
    "𝑥\n",
    "ˉ\n",
    "2\n",
    "x\n",
    "ˉ\n",
    "  \n",
    "1\n",
    "​\n",
    " , \n",
    "x\n",
    "ˉ\n",
    "  \n",
    "2\n",
    "​\n",
    " : Mean GMV per user in test/control\n",
    "\n",
    "𝑠\n",
    "1\n",
    "2\n",
    ",\n",
    "𝑠\n",
    "2\n",
    "2\n",
    "s \n",
    "1\n",
    "2\n",
    "​\n",
    " ,s \n",
    "2\n",
    "2\n",
    "​\n",
    " : Variances\n",
    "\n",
    "𝑛\n",
    "1\n",
    ",\n",
    "𝑛\n",
    "2\n",
    "n \n",
    "1\n",
    "​\n",
    " ,n \n",
    "2\n",
    "​\n",
    " : Sample sizes"
   ]
  },
  {
   "cell_type": "markdown",
   "id": "bcab7c90-58d8-4c13-abfc-e0a248ff933b",
   "metadata": {},
   "source": [
    "## [6. Results](#Table-of-Contents)"
   ]
  },
  {
   "cell_type": "markdown",
   "id": "54a3099a-ba4c-493f-b942-9d76b3976fb7",
   "metadata": {},
   "source": [
    "The following results were computed using a Python script analyzing a synthetic dataset:\n",
    "\n"
   ]
  },
  {
   "cell_type": "code",
   "execution_count": null,
   "id": "13fdd35e-4b52-42fc-a558-9911dc618128",
   "metadata": {},
   "outputs": [],
   "source": [
    "import pandas as pd\n",
    "import requests\n",
    "from io import BytesIO\n",
    "from scipy.stats import ttest_ind"
   ]
  },
  {
   "cell_type": "code",
   "execution_count": 3,
   "id": "90c2f5a4-7a82-45a2-934c-3691f42a23a9",
   "metadata": {},
   "outputs": [],
   "source": [
    "# Download Excel from GitHub\n",
    "url = \"https://www.dropbox.com/scl/fi/khi17myq2m3rosz5eawx7/abtestgmvroi.xlsx?rlkey=ts1ujc7whmrezf8dkmq67zhne&st=aijoy80p&dl=1\"\n",
    "response = requests.get(url)\n",
    "df = pd.read_excel(BytesIO(response.content))"
   ]
  },
  {
   "cell_type": "code",
   "execution_count": 17,
   "id": "b0da73db-ce48-4b3d-a2e3-8bc652f8faab",
   "metadata": {},
   "outputs": [
    {
     "name": "stdout",
     "output_type": "stream",
     "text": [
      "🔍 Group Summary:\n",
      "\n",
      "     group  avg_gmv  total_gmv  total_discount  user_count  roi\n",
      "0  control    49.89  250109.66            0.00        5013  NaN\n",
      "1     test    58.03  289420.46        28942.05        4987  9.0\n",
      "\n",
      "📈 Test Results:\n",
      "\n",
      "GMV Uplift: 16.32%\n",
      "t-Statistic: 38.16\n",
      "p-Value: 2.8631e-297\n"
     ]
    }
   ],
   "source": [
    "# Group summary\n",
    "summary = df.groupby(\"group\").agg(\n",
    "    avg_gmv=(\"gmv\", \"mean\"),\n",
    "    total_gmv=(\"gmv\", \"sum\"),\n",
    "    total_discount=(\"discount_given\", \"sum\"),\n",
    "    user_count=(\"user_id\", \"count\")\n",
    ").reset_index()\n",
    "\n",
    "# ROI calculation\n",
    "summary[\"roi\"] = (summary[\"total_gmv\"] - summary[\"total_discount\"]) / summary[\"total_discount\"]\n",
    "summary.loc[summary[\"group\"] == \"control\", \"roi\"] = None  # no discount given\n",
    "\n",
    "# t-test\n",
    "control_gmv = df[df[\"group\"] == \"control\"][\"gmv\"]\n",
    "test_gmv = df[df[\"group\"] == \"test\"][\"gmv\"]\n",
    "t_stat, p_val = ttest_ind(test_gmv, control_gmv, equal_var=False)\n",
    "\n",
    "# GMV uplift %\n",
    "control_avg = summary.loc[summary[\"group\"] == \"control\", \"avg_gmv\"].values[0]\n",
    "test_avg = summary.loc[summary[\"group\"] == \"test\", \"avg_gmv\"].values[0]\n",
    "uplift_pct = ((test_avg - control_avg) / control_avg) * 100\n",
    "\n",
    "# Round the summary for clean display\n",
    "summary[\"avg_gmv\"] = summary[\"avg_gmv\"].round(2)\n",
    "summary[\"total_gmv\"] = summary[\"total_gmv\"].round(2)\n",
    "summary[\"total_discount\"] = summary[\"total_discount\"].round(2)\n",
    "summary[\"roi\"] = summary[\"roi\"].round(2)\n",
    "\n",
    "# Display group summary\n",
    "print(\"🔍 Group Summary:\\n\")\n",
    "print(summary[[\"group\", \"avg_gmv\", \"total_gmv\", \"total_discount\", \"user_count\", \"roi\"]])\n",
    "\n",
    "# Display test results separately\n",
    "print(\"\\n📈 Test Results:\\n\")\n",
    "print(f\"GMV Uplift: {uplift_pct:.2f}%\")\n",
    "print(f\"t-Statistic: {t_stat:.2f}\")\n",
    "print(f\"p-Value: {p_val:.4e}\")"
   ]
  },
  {
   "cell_type": "markdown",
   "id": "4b073467-0264-460e-8c8b-483f02e85136",
   "metadata": {},
   "source": [
    "The test group had a **statistically significant 16.3% increase in GMV (p < 0.001)**. ROI was **9.0**, meaning for every 1 dollar spent on discounts, **10 dollars in GMV was generated** — 1 dollar was the cost, and 9 dollars was the net gain, which is why the ROI is 9, not 10."
   ]
  },
  {
   "cell_type": "markdown",
   "id": "3b1957e1-372c-49de-b409-9f9df3cbd015",
   "metadata": {},
   "source": [
    "## [7. Conclusions](#Table-of-Contents)\n",
    "    "
   ]
  },
  {
   "cell_type": "markdown",
   "id": "e3c01349-84a0-435f-bf73-3d1206861c14",
   "metadata": {},
   "source": [
    "The A/B test confirmed that the 10% discount campaign effectively increased GMV and delivered a strong ROI of 9.0, meaning every 1 dollar spent returned $10 dollars in revenue. Given the statistically significant uplift and high return, the discount strategy is both effective and profitable. It is recommended to roll out the campaign to a broader user base and monitor long-term performance. Further A/B testing could explore varying discount levels or targeting specific user segments for even greater impact.\n",
    "\n"
   ]
  },
  {
   "cell_type": "code",
   "execution_count": null,
   "id": "0cd484ef-1436-4ddd-be70-e48a45a4eee2",
   "metadata": {},
   "outputs": [],
   "source": []
  }
 ],
 "metadata": {
  "kernelspec": {
   "display_name": "Python 3 (ipykernel)",
   "language": "python",
   "name": "python3"
  },
  "language_info": {
   "codemirror_mode": {
    "name": "ipython",
    "version": 3
   },
   "file_extension": ".py",
   "mimetype": "text/x-python",
   "name": "python",
   "nbconvert_exporter": "python",
   "pygments_lexer": "ipython3",
   "version": "3.12.7"
  }
 },
 "nbformat": 4,
 "nbformat_minor": 5
}
