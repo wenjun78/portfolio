{
 "cells": [
  {
   "cell_type": "markdown",
   "id": "ca1ad2fd-693c-4677-8a13-0b5f59b3038a",
   "metadata": {},
   "source": [
    "# A/B Testing: Evaluating UX Redesign on Conversion and Engagement Metrics"
   ]
  },
  {
   "cell_type": "markdown",
   "id": "54eba639-a418-463b-89fe-2babc15fe8d6",
   "metadata": {},
   "source": [
    "by Lau Wen Jun"
   ]
  },
  {
   "cell_type": "markdown",
   "id": "23c8f965-c720-4cd3-a0e8-80124346ed4f",
   "metadata": {},
   "source": [
    "## Disclaimer:\n",
    "The dataset used in this analysis is a **synthetic dataset generated solely for demonstration purposes and does not reflect real-world user data**. You can download the dataset [here](https://www.dropbox.com/scl/fi/68qegh7dphc33gx6thrk5/ab_ux.xlsx?rlkey=585m46tw6i1cfbujbgxjgukid&st=8gxabc6g&dl=1)."
   ]
  },
  {
   "cell_type": "markdown",
   "id": "9ce03ebc-f63c-468c-bbd8-d9b26641afa7",
   "metadata": {},
   "source": [
    "## Table of Contents\n",
    "\n",
    "1. [Business Context](#1.-Business-Context)\n",
    "2. [Key Variables](#2.-Key-Variables)\n",
    "3. [Objective](#3.-Objective)\n",
    "4. [Experimental Design](#4.-Experimental-Design)\n",
    "5. [Statistical Tests](#5.-Statistical-Tests)\n",
    "6. [Results](#6.-Results)\n",
    "7. [Conclusions](#7.-Conclusions)"
   ]
  },
  {
   "cell_type": "markdown",
   "id": "117bdcd3-63d5-4e5a-b980-126e37b25eff",
   "metadata": {},
   "source": [
    "## [1. Business Context](#Table-of-Contents)\n"
   ]
  },
  {
   "cell_type": "markdown",
   "id": "38124195",
   "metadata": {},
   "source": [
    "\n",
    "The company implemented a redesigned product page aimed at enhancing:\n",
    "\n",
    "- Usability and user experience\n",
    "\n",
    "- Mobile responsiveness across devices\n",
    "\n",
    "- Visual appeal and content clarity\n",
    "\n",
    "Before rolling out the redesign to all users, the team conducted an A/B test to assess whether the new layout led to measurable improvements in user behavior and engagement."
   ]
  },
  {
   "cell_type": "markdown",
   "id": "370d2b14-a60b-4cb9-892a-23c0554817d1",
   "metadata": {},
   "source": [
    "## [2. Key Variables](#Table-of-Contents)"
   ]
  },
  {
   "cell_type": "markdown",
   "id": "57ae4173-7357-4bfa-a9cb-b8ee21769d54",
   "metadata": {},
   "source": [
    "The A/B test focused on evaluating the following performance indicators:\n",
    "\n",
    "- **Conversion Rate (CR):** Percentage of sessions that resulted in a purchase\n",
    "\n",
    "- **Bounce Rate (BR):** Percentage of sessions where users left the page without any interaction\n",
    "\n",
    "- **Average Time on Page:** The mean time (in seconds) users spent on the product page\n",
    "\n",
    "These metrics were chosen to capture both transactional effectiveness and overall user engagement with the new design."
   ]
  },
  {
   "cell_type": "markdown",
   "id": "07103d0f-7b86-4699-87b6-92a2f6ed0c1f",
   "metadata": {},
   "source": [
    "## [3. Objective](#Table-of-Contents)"
   ]
  },
  {
   "cell_type": "markdown",
   "id": "c402c0df-4bdb-4727-867a-cee55ce1f288",
   "metadata": {},
   "source": [
    "To evaluate whether a redesigned product page layout improves user engagement and conversion behavior compared to the original layout, using controlled A/B testing."
   ]
  },
  {
   "cell_type": "markdown",
   "id": "e93e883c-0061-4b0a-8617-7e1b488af5d3",
   "metadata": {},
   "source": [
    "## [4. Experimental Design](#Table-of-Contents)"
   ]
  },
  {
   "cell_type": "markdown",
   "id": "eebd3249-f970-4c2b-91d6-e6d36d44fe22",
   "metadata": {},
   "source": [
    "The A/B test compared two versions of a product page:\n",
    "\n",
    "- Control Group (Version A): Exposed to the current layout.\n",
    "\n",
    "- Test Group (Version B): Exposed to the redesigned layout.\n",
    "\n",
    "Users were **randomly assigned** at the session level, ensuring each visit had an equal chance of being exposed to either version. The traffic was **evenly split (50/50)** using a backend feature flag, ensuring consistent experiences per session.\n",
    "\n",
    "To maintain test integrity:\n",
    "\n",
    "- The redesign was deployed silently (no banners or prompts), so users were unaware they were part of a test.\n",
    "\n",
    "- All other variables (pricing, recommendations, functionality) were held constant.\n",
    "\n",
    "- Data was collected passively via analytics logs over the same fixed time period.\n",
    "\n",
    "This setup ensured that any observed changes could be attributed to the UX redesign alone."
   ]
  },
  {
   "cell_type": "markdown",
   "id": "5b362dd6-bec9-4db1-84e0-342c1661f22f",
   "metadata": {},
   "source": [
    "## [5. Statistical Tests](#Table-of-Contents)"
   ]
  },
  {
   "cell_type": "markdown",
   "id": "c0bc3d9c-bfd5-40fb-b3d5-5076222c0b2d",
   "metadata": {},
   "source": [
    "#### 🔹 Conversion Rate (CR)\n",
    "$$\n",
    "CR = \\frac{\\text{Conversions}}{\\text{Sessions}} \\times 100\n",
    "$$\n",
    "\n",
    "**Z-test for proportions**:\n",
    "\n",
    "Used for comparing **conversion rate** and **bounce rate**, which are binary outcomes (converted vs. not converted, bounced vs. not bounced).\n",
    "\n",
    "$$\n",
    "z = \\frac{p_1 - p_2}{\\sqrt{p(1 - p)\\left( \\frac{1}{n_1} + \\frac{1}{n_2} \\right)}}\n",
    "$$\n",
    "\n",
    "Where:\n",
    "\n",
    "- \\( $p_1$, $p_2$ \\): conversion rates in test and control groups  \n",
    "- \\( $n_1$, $n_2$ \\): sample sizes  \n",
    "- \\( $p$ \\): pooled rate, calculated as:\n",
    "\n",
    "$$\n",
    "p = \\frac{x_1 + x_2}{n_1 + n_2}\n",
    "$$\n",
    "---\n",
    "\n",
    "#### 🔹 Bounce Rate (BR)\n",
    "$$\n",
    "BR = \\frac{\\text{Bounces}}{\\text{Sessions}} \\times 100\n",
    "$$\n",
    "\n",
    "Tested using the **same z-test for proportions**.\n",
    "\n",
    "---\n",
    "\n",
    "#### 🔹 Average Time on Page\n",
    "\n",
    "**Independent t-test**:\n",
    "\n",
    "Used for comparing **average time** on page, a continuous metric.\n",
    "\n",
    "$$\n",
    "t = \\frac{\\bar{x}_1 - \\bar{x}_2}\n",
    "{\\sqrt{\\frac{s_1^2}{n_1} + \\frac{s_2^2}{n_2}}}\n",
    "$$\n",
    "\n",
    "Where:\n",
    "- \\( $\\bar{x}_1$, $\\bar{x}_2$ \\): mean time on page\n",
    "- \\( $s_1^2$, $s_2^2$ \\): variances\n",
    "- \\( $n_1$, $n_2$ \\): sample sizes"
   ]
  },
  {
   "cell_type": "markdown",
   "id": "c4d2b9fd-a7cf-4524-b3aa-528dbef45da0",
   "metadata": {},
   "source": [
    "## [6. Results](#Table-of-Contents)"
   ]
  },
  {
   "cell_type": "markdown",
   "id": "cfab6915-8cc7-4adb-9db3-db9f295ed3b4",
   "metadata": {},
   "source": [
    "The following results were obtained using a custom Python script that calculated group-level metrics, percentage lifts, and statistical significance using pandas, scipy, and statsmodels.\n",
    "\n"
   ]
  },
  {
   "cell_type": "code",
   "execution_count": null,
   "id": "cac81b9e-fbce-43ee-a9b5-1cadb2afe0a9",
   "metadata": {},
   "outputs": [],
   "source": [
    "import pandas as pd\n",
    "from scipy.stats import ttest_ind\n",
    "from statsmodels.stats.proportion import proportions_ztest\n",
    "\n",
    "# Load data\n",
    "url = \"https://www.dropbox.com/scl/fi/68qegh7dphc33gx6thrk5/ab_ux.xlsx?rlkey=585m46tw6i1cfbujbgxjgukid&st=8gxabc6g&dl=1\"\n",
    "df = pd.read_excel(url)\n",
    "\n",
    "# Grouped metrics\n",
    "summary = df.groupby(\"group\").agg(\n",
    "    sessions=('converted', 'count'),\n",
    "    conversions=('converted', 'sum'),\n",
    "    bounces=('bounce', 'sum'),\n",
    "    avg_time_on_page=('time_on_page', 'mean')\n",
    ").reset_index()\n",
    "\n",
    "summary['conversion_rate'] = summary['conversions'] / summary['sessions']\n",
    "summary['bounce_rate'] = summary['bounces'] / summary['sessions']\n",
    "summary['avg_time_on_page'] = summary['avg_time_on_page'].round(2)\n",
    "\n",
    "# Split into control and test\n",
    "control = summary[summary['group'] == 'control'].iloc[0]\n",
    "test = summary[summary['group'] == 'test'].iloc[0]\n",
    "\n",
    "# Calculate lift\n",
    "lift_cr = ((test['conversion_rate'] - control['conversion_rate']) / control['conversion_rate']) * 100\n",
    "lift_br = ((test['bounce_rate'] - control['bounce_rate']) / control['bounce_rate']) * 100\n",
    "lift_time = ((test['avg_time_on_page'] - control['avg_time_on_page']) / control['avg_time_on_page']) * 100\n",
    "\n",
    "# Statistical tests\n",
    "z_cr, p_cr = proportions_ztest([test['conversions'], control['conversions']],\n",
    "                               [test['sessions'], control['sessions']])\n",
    "z_br, p_br = proportions_ztest([test['bounces'], control['bounces']],\n",
    "                               [test['sessions'], control['sessions']])\n",
    "t_time, p_time = ttest_ind(\n",
    "    df[df['group'] == 'test']['time_on_page'],\n",
    "    df[df['group'] == 'control']['time_on_page'],\n",
    "    equal_var=False\n",
    ")\n",
    "\n",
    "# Create consolidated summary table\n",
    "table = pd.DataFrame({\n",
    "    'Metric': ['Conversion Rate', 'Bounce Rate', 'Time on Page (s)'],\n",
    "    'Control': [f\"{control['conversion_rate']*100:.1f}%\", f\"{control['bounce_rate']*100:.1f}%\", f\"{control['avg_time_on_page']:.2f}\"],\n",
    "    'Test': [f\"{test['conversion_rate']*100:.1f}%\", f\"{test['bounce_rate']*100:.1f}%\", f\"{test['avg_time_on_page']:.2f}\"],\n",
    "    'Lift (%)': [f\"{lift_cr:+.2f}%\", f\"{lift_br:+.2f}%\", f\"{lift_time:+.2f}%\"],\n",
    "    'p-value': [f\"{p_cr:.4f}\", f\"{p_br:.4f}\", f\"{p_time:.4f}\"]\n",
    "})"
   ]
  },
  {
   "cell_type": "markdown",
   "id": "7b732d6d-6283-4684-9ef2-dd871ba9318f",
   "metadata": {},
   "source": [
    "The A/B test compared user behavior across control and test groups using three key metrics: Conversion Rate, Bounce Rate, and Average Time on Page. The results are summarized in the table below:"
   ]
  },
  {
   "cell_type": "code",
   "execution_count": null,
   "id": "3d9d3557-0221-45cf-b178-c89cf856dce0",
   "metadata": {},
   "outputs": [
    {
     "name": "stdout",
     "output_type": "stream",
     "text": [
      "📊 UX A/B Test Summary Table:\n",
      "          Metric Control  Test Lift (%) p-value\n",
      " Conversion Rate    6.4%  6.6%   +3.13%  0.8560\n",
      "     Bounce Rate   44.9% 34.8%  -22.49%  0.0000\n",
      "Time on Page (s)   44.43 52.38  +17.89%  0.0000\n"
     ]
    }
   ],
   "source": [
    "print(\"📊 UX A/B Test Summary Table:\")\n",
    "print(table.to_string(index=False))"
   ]
  },
  {
   "cell_type": "markdown",
   "id": "fe41da2e-ce66-45e6-8b20-ec25593b25d5",
   "metadata": {},
   "source": [
    "- **Conversion Rate:** Increased slightly in the test group (+3.13%), but this difference was not statistically significant (p = 0.8560), suggesting the uplift may be due to chance.\n",
    "\n",
    "- **Bounce Rate:** Dropped significantly in the test group (−22.72%), with a highly significant result (p < 0.001), indicating improved user retention and interest.\n",
    "\n",
    "- **Time on Page:** Increased by 17.87% in the test group, with a statistically significant result (p < 0.001), suggesting the redesigned layout successfully encouraged deeper user engagement."
   ]
  },
  {
   "cell_type": "markdown",
   "id": "15957daa-4535-4aa1-9ed7-4a98db4599a0",
   "metadata": {},
   "source": [
    "## [7. Conclusions](#Table-of-Contents)"
   ]
  },
  {
   "cell_type": "markdown",
   "id": "f10ec7d2-6173-4612-b7b7-f10ed0bd7099",
   "metadata": {},
   "source": [
    "The UX redesign significantly improved user engagement, with a lower bounce rate and longer time on page, but did not result in a statistically significant increase in conversions. Given these findings, the new design should be rolled out to all users, while continuing to monitor post-launch funnel metrics such as add-to-cart and checkout rates. Future A/B tests should focus on optimizing conversion-related elements like visual hierarchy and button design."
   ]
  }
 ],
 "metadata": {
  "kernelspec": {
   "display_name": "Python 3 (ipykernel)",
   "language": "python",
   "name": "python3"
  },
  "language_info": {
   "codemirror_mode": {
    "name": "ipython",
    "version": 3
   },
   "file_extension": ".py",
   "mimetype": "text/x-python",
   "name": "python",
   "nbconvert_exporter": "python",
   "pygments_lexer": "ipython3",
   "version": "3.12.7"
  }
 },
 "nbformat": 4,
 "nbformat_minor": 5
}
