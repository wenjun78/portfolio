{
 "cells": [
  {
   "cell_type": "code",
   "execution_count": 8,
   "id": "4dca4ba1-2b3e-4189-9ade-0cdd5537c83a",
   "metadata": {},
   "outputs": [
    {
     "name": "stdout",
     "output_type": "stream",
     "text": [
      "📊 UX A/B Test Summary Table:\n",
      "          Metric Control  Test Lift (%) p-value\n",
      " Conversion Rate    6.4%  6.6%   +3.13%  0.8560\n",
      "     Bounce Rate   44.9% 34.8%  -22.49%  0.0000\n",
      "Time on Page (s)   44.43 52.38  +17.89%  0.0000\n"
     ]
    }
   ],
   "source": [
    "import pandas as pd\n",
    "from scipy.stats import ttest_ind\n",
    "from statsmodels.stats.proportion import proportions_ztest\n",
    "\n",
    "# Load data\n",
    "url = \"https://www.dropbox.com/scl/fi/68qegh7dphc33gx6thrk5/ab_ux.xlsx?rlkey=585m46tw6i1cfbujbgxjgukid&st=8gxabc6g&dl=1\"\n",
    "df = pd.read_excel(url)\n",
    "\n",
    "# Grouped metrics\n",
    "summary = df.groupby(\"group\").agg(\n",
    "    sessions=('converted', 'count'),\n",
    "    conversions=('converted', 'sum'),\n",
    "    bounces=('bounce', 'sum'),\n",
    "    avg_time_on_page=('time_on_page', 'mean')\n",
    ").reset_index()\n",
    "\n",
    "summary['conversion_rate'] = summary['conversions'] / summary['sessions']\n",
    "summary['bounce_rate'] = summary['bounces'] / summary['sessions']\n",
    "summary['avg_time_on_page'] = summary['avg_time_on_page'].round(2)\n",
    "\n",
    "# Split into control and test\n",
    "control = summary[summary['group'] == 'control'].iloc[0]\n",
    "test = summary[summary['group'] == 'test'].iloc[0]\n",
    "\n",
    "# Calculate lift\n",
    "lift_cr = ((test['conversion_rate'] - control['conversion_rate']) / control['conversion_rate']) * 100\n",
    "lift_br = ((test['bounce_rate'] - control['bounce_rate']) / control['bounce_rate']) * 100\n",
    "lift_time = ((test['avg_time_on_page'] - control['avg_time_on_page']) / control['avg_time_on_page']) * 100\n",
    "\n",
    "# Statistical tests\n",
    "z_cr, p_cr = proportions_ztest([test['conversions'], control['conversions']],\n",
    "                               [test['sessions'], control['sessions']])\n",
    "z_br, p_br = proportions_ztest([test['bounces'], control['bounces']],\n",
    "                               [test['sessions'], control['sessions']])\n",
    "t_time, p_time = ttest_ind(\n",
    "    df[df['group'] == 'test']['time_on_page'],\n",
    "    df[df['group'] == 'control']['time_on_page'],\n",
    "    equal_var=False\n",
    ")\n",
    "\n",
    "# Create consolidated summary table\n",
    "table = pd.DataFrame({\n",
    "    'Metric': ['Conversion Rate', 'Bounce Rate', 'Time on Page (s)'],\n",
    "    'Control': [f\"{control['conversion_rate']*100:.1f}%\", f\"{control['bounce_rate']*100:.1f}%\", f\"{control['avg_time_on_page']:.2f}\"],\n",
    "    'Test': [f\"{test['conversion_rate']*100:.1f}%\", f\"{test['bounce_rate']*100:.1f}%\", f\"{test['avg_time_on_page']:.2f}\"],\n",
    "    'Lift (%)': [f\"{lift_cr:+.2f}%\", f\"{lift_br:+.2f}%\", f\"{lift_time:+.2f}%\"],\n",
    "    'p-value': [f\"{p_cr:.4f}\", f\"{p_br:.4f}\", f\"{p_time:.4f}\"]\n",
    "})\n",
    "\n",
    "print(\"📊 UX A/B Test Summary Table:\")\n",
    "print(table.to_string(index=False))"
   ]
  },
  {
   "cell_type": "code",
   "execution_count": null,
   "id": "0b70f67a-6c06-452b-839d-c4fab0cb39f9",
   "metadata": {},
   "outputs": [],
   "source": []
  }
 ],
 "metadata": {
  "kernelspec": {
   "display_name": "Python 3 (ipykernel)",
   "language": "python",
   "name": "python3"
  },
  "language_info": {
   "codemirror_mode": {
    "name": "ipython",
    "version": 3
   },
   "file_extension": ".py",
   "mimetype": "text/x-python",
   "name": "python",
   "nbconvert_exporter": "python",
   "pygments_lexer": "ipython3",
   "version": "3.12.7"
  }
 },
 "nbformat": 4,
 "nbformat_minor": 5
}
